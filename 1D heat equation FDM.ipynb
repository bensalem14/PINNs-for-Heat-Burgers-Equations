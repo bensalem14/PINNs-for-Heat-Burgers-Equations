{
 "cells": [
  {
   "cell_type": "code",
   "execution_count": 2,
   "id": "c452d9a4",
   "metadata": {},
   "outputs": [
    {
     "ename": "SyntaxError",
     "evalue": "invalid syntax (4157213830.py, line 2)",
     "output_type": "error",
     "traceback": [
      "\u001b[1;36m  Cell \u001b[1;32mIn[2], line 2\u001b[1;36m\u001b[0m\n\u001b[1;33m    from matplotlib.pyplot as plt\u001b[0m\n\u001b[1;37m                           ^\u001b[0m\n\u001b[1;31mSyntaxError\u001b[0m\u001b[1;31m:\u001b[0m invalid syntax\n"
     ]
    }
   ],
   "source": [
    "import numpy as np\n",
    "import matplotlib.pyplot as plt"
   ]
  },
  {
   "cell_type": "markdown",
   "id": "9507e191",
   "metadata": {},
   "source": [
    "given a metal bar of aliminium (0.89 J/g C) of length 10 . and two heat sources on the sides the left having 100C and the right having 200C. a simulation time of 10 and time step dt=0.0001, size step of 0.1m.\n",
    "\n",
    "the 1D heat equation \n",
    "$\n",
    "\\begin{align}\n",
    "\\frac{\\partial u}{\\partial t} = k\\frac{\\partial^2 u}{\\partial x^2}\n",
    "\\end{align}\n",
    "$"
   ]
  },
  {
   "cell_type": "code",
   "execution_count": null,
   "id": "ebf412ec",
   "metadata": {},
   "outputs": [],
   "source": [
    "length = 10\n",
    "k = 0.89\n",
    "# B.C\n",
    "temp_left = 100\n",
    "temp_right = 200\n",
    "total_sim_time = 10"
   ]
  },
  {
   "cell_type": "code",
   "execution_count": null,
   "id": "a96ae447",
   "metadata": {},
   "outputs": [],
   "source": [
    "dx = .1\n",
    "x_vector = np.linspace(0, length, int(length/dx))"
   ]
  },
  {
   "cell_type": "code",
   "execution_count": null,
   "id": "7bd578bc",
   "metadata": {},
   "outputs": [
    {
     "data": {
      "text/plain": [
       "array([ 0.        ,  0.1010101 ,  0.2020202 ,  0.3030303 ,  0.4040404 ,\n",
       "        0.50505051,  0.60606061,  0.70707071,  0.80808081,  0.90909091,\n",
       "        1.01010101,  1.11111111,  1.21212121,  1.31313131,  1.41414141,\n",
       "        1.51515152,  1.61616162,  1.71717172,  1.81818182,  1.91919192,\n",
       "        2.02020202,  2.12121212,  2.22222222,  2.32323232,  2.42424242,\n",
       "        2.52525253,  2.62626263,  2.72727273,  2.82828283,  2.92929293,\n",
       "        3.03030303,  3.13131313,  3.23232323,  3.33333333,  3.43434343,\n",
       "        3.53535354,  3.63636364,  3.73737374,  3.83838384,  3.93939394,\n",
       "        4.04040404,  4.14141414,  4.24242424,  4.34343434,  4.44444444,\n",
       "        4.54545455,  4.64646465,  4.74747475,  4.84848485,  4.94949495,\n",
       "        5.05050505,  5.15151515,  5.25252525,  5.35353535,  5.45454545,\n",
       "        5.55555556,  5.65656566,  5.75757576,  5.85858586,  5.95959596,\n",
       "        6.06060606,  6.16161616,  6.26262626,  6.36363636,  6.46464646,\n",
       "        6.56565657,  6.66666667,  6.76767677,  6.86868687,  6.96969697,\n",
       "        7.07070707,  7.17171717,  7.27272727,  7.37373737,  7.47474747,\n",
       "        7.57575758,  7.67676768,  7.77777778,  7.87878788,  7.97979798,\n",
       "        8.08080808,  8.18181818,  8.28282828,  8.38383838,  8.48484848,\n",
       "        8.58585859,  8.68686869,  8.78787879,  8.88888889,  8.98989899,\n",
       "        9.09090909,  9.19191919,  9.29292929,  9.39393939,  9.49494949,\n",
       "        9.5959596 ,  9.6969697 ,  9.7979798 ,  9.8989899 , 10.        ])"
      ]
     },
     "execution_count": 6,
     "metadata": {},
     "output_type": "execute_result"
    }
   ],
   "source": [
    "x_vector"
   ]
  },
  {
   "cell_type": "code",
   "execution_count": null,
   "id": "76af06ce",
   "metadata": {},
   "outputs": [],
   "source": [
    "dt = 0.0001\n",
    "t_vector = np.linspace(0, total_sim_time, int(total_sim_time/dt))"
   ]
  },
  {
   "cell_type": "code",
   "execution_count": null,
   "id": "5a832f03",
   "metadata": {},
   "outputs": [
    {
     "data": {
      "text/plain": [
       "array([0.00000e+00, 1.00001e-04, 2.00002e-04, ..., 9.99980e+00,\n",
       "       9.99990e+00, 1.00000e+01])"
      ]
     },
     "execution_count": 8,
     "metadata": {},
     "output_type": "execute_result"
    }
   ],
   "source": [
    "t_vector"
   ]
  },
  {
   "cell_type": "code",
   "execution_count": null,
   "id": "e3b5db62",
   "metadata": {},
   "outputs": [],
   "source": [
    "# Initial conditions\n",
    "u = np.zeros([len(t_vector),len(x_vector)])"
   ]
  },
  {
   "cell_type": "code",
   "execution_count": null,
   "id": "b8a818de",
   "metadata": {},
   "outputs": [
    {
     "data": {
      "text/plain": [
       "(100000, 100)"
      ]
     },
     "execution_count": 10,
     "metadata": {},
     "output_type": "execute_result"
    }
   ],
   "source": [
    "u.shape"
   ]
  },
  {
   "cell_type": "code",
   "execution_count": null,
   "id": "4c8c9327",
   "metadata": {},
   "outputs": [
    {
     "data": {
      "text/plain": [
       "array([[0., 0., 0., ..., 0., 0., 0.],\n",
       "       [0., 0., 0., ..., 0., 0., 0.],\n",
       "       [0., 0., 0., ..., 0., 0., 0.],\n",
       "       ...,\n",
       "       [0., 0., 0., ..., 0., 0., 0.],\n",
       "       [0., 0., 0., ..., 0., 0., 0.],\n",
       "       [0., 0., 0., ..., 0., 0., 0.]])"
      ]
     },
     "execution_count": 11,
     "metadata": {},
     "output_type": "execute_result"
    }
   ],
   "source": [
    "u"
   ]
  },
  {
   "cell_type": "code",
   "execution_count": null,
   "id": "d741d5f9",
   "metadata": {},
   "outputs": [],
   "source": [
    "u[:,0] = temp_left\n",
    "u[:,-1] = temp_right"
   ]
  },
  {
   "cell_type": "code",
   "execution_count": null,
   "id": "30c7c5ba",
   "metadata": {},
   "outputs": [
    {
     "data": {
      "text/plain": [
       "array([[100.,   0.,   0., ...,   0.,   0., 200.],\n",
       "       [100.,   0.,   0., ...,   0.,   0., 200.],\n",
       "       [100.,   0.,   0., ...,   0.,   0., 200.],\n",
       "       ...,\n",
       "       [100.,   0.,   0., ...,   0.,   0., 200.],\n",
       "       [100.,   0.,   0., ...,   0.,   0., 200.],\n",
       "       [100.,   0.,   0., ...,   0.,   0., 200.]])"
      ]
     },
     "execution_count": 15,
     "metadata": {},
     "output_type": "execute_result"
    }
   ],
   "source": [
    "u"
   ]
  },
  {
   "cell_type": "code",
   "execution_count": null,
   "id": "d2a7ea26",
   "metadata": {},
   "outputs": [
    {
     "data": {
      "image/png": "[encoded data removed]",
      "text/plain": [
       "<Figure size 640x480 with 1 Axes>"
      ]
     },
     "metadata": {},
     "output_type": "display_data"
    }
   ],
   "source": [
    "plt.plot(x_vector,u[0])\n",
    "plt.ylabel(r\"$\\theta$\")\n",
    "plt.xlabel(\"x\")\n",
    "plt.show()"
   ]
  },
  {
   "cell_type": "markdown",
   "id": "55ba3b5c",
   "metadata": {},
   "source": [
    "$\n",
    "\\begin{align}\n",
    "f'(x) &= \\frac{f(x+h)-f(x)}{h}\\\\\n",
    "&= \\frac{f(x)-f(x-h)}{h}\\\\\n",
    "&= \\frac{f(x+h)-f(x-h)}{2h}\\\\\n",
    "f''(x) &= \\frac{f(x+h)-2f(x)+f(x-h)}{h^2}\\\\\n",
    "& = \\frac{f(x+2h)-4f(x+h)+6f(x)-4f(x-h)+f(x-2h)}{h^2}\n",
    "\\end{align}\n",
    "$\n",
    "Through discretization the 1D heat equation becomes :\n",
    "\n",
    "$\n",
    "\\begin{align}\n",
    "\\frac{u(t+dt,x)}{dt} &= k\\frac{u(t,x+dx)-2u(t,x)+u(t,x-dx)}{dx^2}\\\\\n",
    "& \\implies u(t+dt,x) = k\\frac{dt}{dx^2}\\{u(t,x+dx)-2u(t,x)+u(t,x-dx)\\}\n",
    "\\end{align}\n",
    "$\n"
   ]
  },
  {
   "cell_type": "code",
   "execution_count": null,
   "id": "cca1cb08",
   "metadata": {},
   "outputs": [],
   "source": [
    "for t in range(1, len(t_vector)-1):\n",
    "    for x in range(1, len(x_vector)-1):\n",
    "        u[t+1,x] = ((k* (dt/dx**2)) * (u[t, x+1] - 2* u[t,x] + u[t,x-1])) + u[t,x]"
   ]
  },
  {
   "cell_type": "code",
   "execution_count": null,
   "id": "0ab5c205",
   "metadata": {},
   "outputs": [
    {
     "data": {
      "text/plain": [
       "array([[100.        ,   0.        ,   0.        , ...,   0.        ,\n",
       "          0.        , 200.        ],\n",
       "       [100.        ,   0.        ,   0.        , ...,   0.        ,\n",
       "          0.        , 200.        ],\n",
       "       [100.        ,   0.89      ,   0.        , ...,   0.        ,\n",
       "          1.78      , 200.        ],\n",
       "       ...,\n",
       "       [100.        ,  98.59123721,  97.1847561 , ..., 192.92058415,\n",
       "        196.4589255 , 200.        ],\n",
       "       [100.        ,  98.59125751,  97.1847967 , ..., 192.92063276,\n",
       "        196.45894983, 200.        ],\n",
       "       [100.        ,  98.59127782,  97.1848373 , ..., 192.92068138,\n",
       "        196.45897415, 200.        ]])"
      ]
     },
     "execution_count": 20,
     "metadata": {},
     "output_type": "execute_result"
    }
   ],
   "source": [
    "u"
   ]
  },
  {
   "cell_type": "code",
   "execution_count": null,
   "id": "34b52750",
   "metadata": {},
   "outputs": [
    {
     "data": {
      "image/png": "[encoded data removed]",
      "text/plain": [
       "<Figure size 640x480 with 1 Axes>"
      ]
     },
     "metadata": {},
     "output_type": "display_data"
    }
   ],
   "source": [
    "plt.plot(x_vector,u[0])\n",
    "plt.ylabel(r\"$\\theta$\")\n",
    "plt.xlabel(\"x\")\n",
    "plt.show()"
   ]
  },
  {
   "cell_type": "code",
   "execution_count": null,
   "id": "f6ac155c",
   "metadata": {},
   "outputs": [
    {
     "data": {
      "image/png": "[encoded data removed]",
      "text/plain": [
       "<Figure size 640x480 with 1 Axes>"
      ]
     },
     "metadata": {},
     "output_type": "display_data"
    }
   ],
   "source": [
    "plt.plot(x_vector,u[99999])\n",
    "plt.ylabel(r\"$\\theta$\")\n",
    "plt.xlabel(\"x\")\n",
    "plt.show()"
   ]
  }
 ],
 "metadata": {
  "kernelspec": {
   "display_name": "Python 3 (ipykernel)",
   "language": "python",
   "name": "python3"
  },
  "language_info": {
   "codemirror_mode": {
    "name": "ipython",
    "version": 3
   },
   "file_extension": ".py",
   "mimetype": "text/x-python",
   "name": "python",
   "nbconvert_exporter": "python",
   "pygments_lexer": "ipython3",
   "version": "3.9.4"
  }
 },
 "nbformat": 4,
 "nbformat_minor": 5
}
